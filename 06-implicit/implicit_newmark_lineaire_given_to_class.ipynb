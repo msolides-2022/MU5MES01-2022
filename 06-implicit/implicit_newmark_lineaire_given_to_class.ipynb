{
 "cells": [
  {
   "cell_type": "markdown",
   "metadata": {},
   "source": [
    "# Implementation of the Newmark-β time-stepping\n",
    "\n",
    "In this notebook, we present an  implementation of the Newmark-β time-stepping technique. We consider a cantilever beam of size `L × d` (2D, plane strain), fixed at its `x = 0` end, and subjected to a longitudinal or transversal load at `x = L` as in the precedent class session. "
   ]
  },
  {
   "cell_type": "markdown",
   "metadata": {},
   "source": [
    "![shema](setup_dynamics.png)"
   ]
  },
  {
   "cell_type": "markdown",
   "metadata": {},
   "source": [
    "Introduction and elastodynamics equation\n",
    "----------------------------------------\n",
    "\n",
    "The elastodynamics equation combine the balance of linear momentum:\n",
    "\n",
    "$$\\nabla \\cdot \\sigma + \\rho b = \\rho \\ddot{u}$$\n",
    "\n",
    "where $u$ is the displacement vector field,\n",
    "$\\ddot{u}=\\partial^2 u/\\partial t^2$ is the acceleration, $\\rho$ the\n",
    "material density, $b$ a given body force and $\\sigma$ the stress tensor\n",
    "which is related to the displacement through a constitutive equation. In\n",
    "the case of isotropic linearized elasticity, one has:\n",
    "\n",
    "$$\\sigma =\\lambda \\text{tr}(\\varepsilon)\\mathbb{1} + 2\\mu\\varepsilon$$\n",
    "\n",
    "where $\\varepsilon = (\\nabla u + (\\nabla u)^T)/2$ is the linearized\n",
    "strain tensor, $\\mathbb{1}$ is the identity of second-rank tensors and\n",
    "$\\lambda=\\dfrac{E\\nu}{(1+\\nu)(1-2\\nu)},\\mu=\\dfrac{E}{2(1+\\nu)}$ are the\n",
    "Lame coefficients given as functions of the Young modulus $E$ and the\n",
    "Poisson ratio $\\nu$.\n",
    "\n",
    "The weak form is readily obtained by integrating by part the balance\n",
    "equation using a test function $v\\in V$ with $V$ being a suitable\n",
    "function space that satisfies the displacement boundary conditions:\n",
    "\n",
    "$$\\int_{\\Omega} \\rho \\ddot{u}\\cdot v \\, {\\rm d} x + \\int_{\\Omega} \\sigma(u):\\varepsilon(v) \\, {\\rm d} x =\n",
    "\\int_{\\Omega} \\rho b \\cdot v  \\, {\\rm d} x \n",
    "+ \\int_{\\partial\\Omega} (\\sigma\\cdot n) \\cdot v \\, {\\rm d} s \\quad \\text{for all } v \\in V\n",
    "$$\n",
    "\n",
    "The previous equation can be written as follows:\n",
    "\n",
    "$$\n",
    "\\text{Find }u\\in V\\text{ such that } m(\\ddot{u},v) + k(u,v) = L(v) \\quad \\text{for all } v\\in V\n",
    "$$\n",
    "\n",
    "where $m$ is the symmetric bilinear form associated with the mass matrix\n",
    "and $k$ the one associated with the stiffness matrix.\n",
    "\n",
    "After introducing the finite element space interpolation, one obtains\n",
    "the corresponding discretized evolution equation:\n",
    "\n",
    "$$\\text{Find }\\{u\\}\\in\\mathbb{R}^n\\text{ such that } \\{v\\}^T[M]\\{\\ddot{u}\\} + \\{v\\}^T[K]\\{u\\} = \\{v\\}^T\\{F\\} \\quad \\text{for all } \\{v\\}\\in\\mathbb{R}^n$$\n",
    "\n",
    "which is a generalized $n$-dof harmonic oscillator equation. \n",
    "\n",
    "Quite often in structural dynamics, structures do not oscillate\n",
    "perfectly but lose energy through various dissipative mechanisms\n",
    "(friction with air or supports, internal dissipation through plasticity,\n",
    "damage, etc.). Dissipative terms can be introduced at the level of the\n",
    "constitutive equation if these mechanisms are well known but quite often\n",
    "it is not the case. Dissipation can then be modeled by adding an *ad\n",
    "hoc* damping term depending on the structure velocity $\\dot{u}$ to the\n",
    "previous evolution equation:\n",
    "\n",
    "$$\\text{Find }u\\in V\\text{ such that } m(\\ddot{u},v) + c(\\dot{u},v) + k(u,v) = L(v) \\quad \\text{for all } v\\in V$$\n",
    "\n",
    "The damping form will be considered here as bilinear and symmetric,\n",
    "being therefore associated with a damping matrix $[C]$.\n",
    "\n",
    "### Rayleigh damping\n",
    "\n",
    "When little is known about the origin of damping in the structure, a\n",
    "popular choice for the damping matrix, known as *Rayleigh damping*,\n",
    "consists in using a linear combination of the mass and stiffness matrix\n",
    "$[C] = \\eta_M[M]+\\eta_K[K]$ with two positive parameters $\\eta_M,\\eta_K$\n",
    "which can be fitted against experimental measures for instance (usually\n",
    "by measuring the damping ratio of two natural modes of vibration)."
   ]
  },
  {
   "cell_type": "code",
   "execution_count": null,
   "metadata": {},
   "outputs": [],
   "source": [
    "import dolfinx\n",
    "from dolfinx import nls\n",
    "import numpy as np\n",
    "import matplotlib.pyplot as plt\n",
    "import ufl\n",
    "import time\n",
    "import os\n",
    "from mpi4py import MPI\n",
    "from petsc4py.PETSc import ScalarType\n",
    "import pyvista\n",
    "import extract"
   ]
  },
  {
   "cell_type": "markdown",
   "metadata": {},
   "source": [
    "### Definition of the geometry and the mesh"
   ]
  },
  {
   "cell_type": "code",
   "execution_count": null,
   "metadata": {},
   "outputs": [],
   "source": [
    "# geometry and mesh \n",
    "L = 1.0 # total length\n",
    "d = 0.1*L # thickness\n",
    "h = 0.2*d # size of a cell\n",
    "\n",
    "my_domain = dolfinx.mesh.create_rectangle(comm=MPI.COMM_WORLD,\n",
    "                            points=((0.0, -0.5*d), (L, 0.5*d)), n=(int(L/h), int(d/h)),\n",
    "                            cell_type=dolfinx.mesh.CellType.triangle)\n",
    "\n",
    "# Save the mesh in XDMF format\n",
    "with dolfinx.io.XDMFFile(MPI.COMM_WORLD, \"output_dyn_impl/mesh.xdmf\", \"w\") as file:\n",
    "    file.write_mesh(my_domain)\n",
    "    my_domain.topology.create_connectivity(1, 2)"
   ]
  },
  {
   "cell_type": "code",
   "execution_count": null,
   "metadata": {},
   "outputs": [],
   "source": [
    "# Plot the mesh with pyvista\n",
    "#pyvista.start_xvfb()\n",
    "pyvista.set_jupyter_backend(\"none\") # non-interactif, mais mieux\n",
    "# pyvista.set_jupyter_backend(\"pythreejs\") # interactif, mais pas super\n",
    "topology, cells, geometry = dolfinx.plot.create_vtk_mesh(my_domain)\n",
    "function_grid = pyvista.UnstructuredGrid(topology, cells, geometry)\n",
    "plotter = pyvista.Plotter()\n",
    "plotter.add_mesh(function_grid, show_edges=True)\n",
    "plotter.show_bounds(grid='front', location='outer', all_edges=True)\n",
    "plotter.view_xy()\n",
    "plotter.show()"
   ]
  },
  {
   "cell_type": "code",
   "execution_count": null,
   "metadata": {},
   "outputs": [],
   "source": [
    "# Define the different parts of the boundary\n",
    "boundaries = [(1, lambda x: np.isclose(x[0], 0)),\n",
    "              (2, lambda x: np.isclose(x[0], L)),\n",
    "              (3, lambda x: np.isclose(x[1], -0.5*d)),\n",
    "              (4, lambda x: np.isclose(x[1], 0.5*d))]\n",
    "\n",
    "facet_indices, facet_markers = [], []\n",
    "fdim = my_domain.topology.dim - 1\n",
    "for (marker, locator) in boundaries:\n",
    "    facets = dolfinx.mesh.locate_entities(my_domain, fdim, locator)\n",
    "    facet_indices.append(facets) # here we put all the facets indices\n",
    "    facet_markers.append(np.full_like(facets, marker)) # here we put all the facets 'labels' (1, 2, 3 or 4)\n",
    "facet_indices = np.hstack(facet_indices).astype(np.int32) # concatenate everything in one big vector\n",
    "facet_markers = np.hstack(facet_markers).astype(np.int32)\n",
    "sorted_facets = np.argsort(facet_indices) # sorting\n",
    "facet_tag = dolfinx.mesh.meshtags(my_domain, fdim, facet_indices[sorted_facets], facet_markers[sorted_facets])"
   ]
  },
  {
   "cell_type": "code",
   "execution_count": null,
   "metadata": {},
   "outputs": [],
   "source": [
    "ds = ufl.Measure(\"ds\", domain=my_domain, subdomain_data=facet_tag)\n",
    "dx = ufl.dx(domain=my_domain)"
   ]
  },
  {
   "cell_type": "markdown",
   "metadata": {},
   "source": [
    "### Material parameters"
   ]
  },
  {
   "cell_type": "code",
   "execution_count": null,
   "metadata": {},
   "outputs": [],
   "source": [
    "# Material parameters\n",
    "Y  = 1.\n",
    "nu = 0.3\n",
    "mu = Y/(2.*(1.+nu))\n",
    "lambda_ = Y*nu/((1.+nu)*(1.-2.*nu))\n",
    "# lambda_ = 2*lambda_*mu/(lambda_+2*mu) # plane stress\n",
    "rho = dolfinx.fem.Constant(my_domain,ScalarType(1.))\n",
    "\n",
    "# Damping parameters\n",
    "# The damping matrix C is defined as C = eta_m*M+eta_k*K\n",
    "eta_m = dolfinx.fem.Constant(my_domain,ScalarType(0.01))\n",
    "eta_k = dolfinx.fem.Constant(my_domain,ScalarType(0.00001))"
   ]
  },
  {
   "cell_type": "markdown",
   "metadata": {},
   "source": [
    "### Definition of the problem in the linear and in the nonlinear case (finite deformations)"
   ]
  },
  {
   "cell_type": "code",
   "execution_count": null,
   "metadata": {},
   "outputs": [],
   "source": [
    "V = dolfinx.fem.VectorFunctionSpace(my_domain,(\"Lagrange\", 1),dim=2)"
   ]
  },
  {
   "cell_type": "code",
   "execution_count": null,
   "metadata": {},
   "outputs": [],
   "source": [
    "boundary_clamped_dofs = dolfinx.fem.locate_dofs_topological(V, facet_tag.dim, facet_tag.find(1)) # dofs on the left end of the bar\n",
    "\n",
    "#this is the boundary value of u(x,y) at the left border : it has to be zero (clamped)\n",
    "u_D = np.array([0,0], dtype=ScalarType)\n",
    "\n",
    "bc = dolfinx.fem.dirichletbc(u_D, boundary_clamped_dofs, V)"
   ]
  },
  {
   "cell_type": "code",
   "execution_count": null,
   "metadata": {},
   "outputs": [],
   "source": [
    "I2 = ufl.Identity(my_domain.topology.dim)\n",
    "# Kinematics\n",
    "def strain_displacement(u):\n",
    "    return ufl.sym(ufl.grad(u))\n",
    "\n",
    "def stress_linear(eps):\n",
    "    return lambda_*ufl.tr(eps)*I2+2.*mu*eps\n",
    "\n",
    "def stiffness_linear(u, v):\n",
    "    return ufl.inner(stress_linear(strain_displacement(u)),strain_displacement(v))*dx  "
   ]
  },
  {
   "cell_type": "code",
   "execution_count": null,
   "metadata": {},
   "outputs": [],
   "source": [
    "traction = dolfinx.fem.Constant(my_domain, ScalarType((0,0)))\n",
    "\n",
    "def mass(u, v):\n",
    "    return rho*ufl.inner(u, v)*dx\n",
    "\n",
    "def damping(u, v):\n",
    "    return eta_m*mass(u, v) + eta_k*stiffness_linear(u, v)\n",
    "\n",
    "def p_ext(v):\n",
    "    return ufl.dot(traction,v)*ds(2) # traction is applied at right end of bar"
   ]
  },
  {
   "cell_type": "code",
   "execution_count": null,
   "metadata": {},
   "outputs": [],
   "source": [
    "u = ufl.TrialFunction(V) # a generic unknown field\n",
    "v = ufl.TestFunction(V) # a generic test field. This is _not_ the speed"
   ]
  },
  {
   "cell_type": "code",
   "execution_count": null,
   "metadata": {},
   "outputs": [],
   "source": [
    "u_sol = dolfinx.fem.Function(V)# displacement of the solution\n",
    "vit_sol = dolfinx.fem.Function(V)# velocity of the solution\n",
    "acc_sol = dolfinx.fem.Function(V)# acceleration of the solution"
   ]
  },
  {
   "cell_type": "markdown",
   "metadata": {},
   "source": [
    "### Parameters of the simulation¶"
   ]
  },
  {
   "cell_type": "markdown",
   "metadata": {},
   "source": [
    "### Material, loading and time-discretization parameters\n",
    "\n",
    "A time-dependent traction is applied at the $x = L$ face as follows\n",
    "\\begin{equation}\n",
    "\\vec T = \\begin{cases}\n",
    "\\displaystyle\\frac{t}{t_{\\mathrm{c}}}\\vec T_{\\mathrm{max}} & t \\leq t_{\\mathrm{c}}\\\\[.2em]\n",
    "\\vec 0 & t > t_{\\mathrm{c}}\n",
    "\\end{cases}\n",
    "\\end{equation}\n",
    "where $t_{\\mathrm{c}}$ is a “cut-off” time. Note that depending on the direction of the applied traction, we will need to select different values for `t_c` and `T_max`."
   ]
  },
  {
   "cell_type": "code",
   "execution_count": null,
   "metadata": {},
   "outputs": [],
   "source": [
    "def load_eval(t,t_cutoff):\n",
    "    if t <= t_cutoff:\n",
    "        return sigma_max*t/t_cutoff\n",
    "    else:\n",
    "        return 0"
   ]
  },
  {
   "cell_type": "code",
   "execution_count": null,
   "metadata": {},
   "outputs": [],
   "source": [
    "stiffness = stiffness_linear\n",
    "strain = strain_displacement"
   ]
  },
  {
   "cell_type": "code",
   "execution_count": null,
   "metadata": {},
   "outputs": [],
   "source": [
    "# We compute the strain tensor of the solution\n",
    "eps_solution = strain(u_sol)\n",
    "V_eps = dolfinx.fem.FunctionSpace(my_domain,(\"DG\", 0))\n",
    "eps_xx_expr = dolfinx.fem.Expression(eps_solution[0,0], V_eps.element.interpolation_points())\n",
    "eps_xx = dolfinx.fem.Function(V_eps)"
   ]
  },
  {
   "cell_type": "markdown",
   "metadata": {},
   "source": [
    "# `Questions start here`"
   ]
  },
  {
   "cell_type": "markdown",
   "metadata": {},
   "source": [
    "Please fill the parts of the code marked by `XXX`"
   ]
  },
  {
   "cell_type": "code",
   "execution_count": null,
   "metadata": {},
   "outputs": [],
   "source": [
    "eta_m.value = 0.01  # example eta_m = 0.01\n",
    "eta_k.value = 0.00001 # example eta_k = 0.00001\n",
    "# Loading\n",
    "t_end = 10. # end time of the simulation \n",
    "# Is t_end large enough for flexion oscillations?\n",
    "num_steps  = 500 # total number of steps for the entire simulation\n",
    "dt = t_end/num_steps\n",
    "\n",
    "t_cutoff = 1.95 # time duration for which we pull on the bar, this t_c\n",
    "# Is t_cutoff large enough for loading the beam in flexion?\n",
    "sigma_max = 0.01 # sigma_max\n",
    "# It this max load the same for extension and flexion?\n",
    "\n",
    "# Coordinates of the plotting point \n",
    "coords_tip = [L,0]"
   ]
  },
  {
   "cell_type": "markdown",
   "metadata": {},
   "source": [
    "### Implicit time-stepping scheme"
   ]
  },
  {
   "cell_type": "markdown",
   "metadata": {},
   "source": [
    "### Time discretization using the Newmark-$\\beta$ method\n",
    "\n",
    "We now introduce a time discretization of the interval study $[0;T]$ in\n",
    "$N+1$ time increments $t_0=0,t_1,\\ldots,t_N,t_{N+1}=T$ with\n",
    "$\\Delta t=T/N$ denoting the time step (supposed constant). The\n",
    "resolution will make use of the Newmark-$\\beta$ method in\n",
    "structural dynamics. As an implicit method, it is unconditionally stable\n",
    "for a proper choice of coefficients so that quite large time steps can\n",
    "be used. It also allows for high frequency dissipation and offers a\n",
    "second-order accuracy, i.e. in $O(\\Delta t^2)$.\n",
    "\n",
    "The method consists in solving the dynamic evolution equation at\n",
    "intermediate time between $t_n$ and $t_{n+1}$ as follows:\n",
    "\n",
    "$$[Eq1] \\quad [M]\\{\\ddot{u}_{n+1}\\} + [C]\\{\\dot{u}_{n+1}\\}+[K]\\{u_{n+1}\\} = \\{F(t_{n+1})\\}$$\n",
    "\n",
    "The following approximation for the displacement and velocity\n",
    "at $t_{n+1}$ are used:\n",
    "\n",
    "$$ [Eq2] \\quad \n",
    "\\{u_{n+1}\\} = \\{u_{n}\\}+\\Delta t \\{\\dot{u}_{n}\\} + \\dfrac{\\Delta t^2}{2}\\left((1-2\\beta)\\{\\ddot{u}_{n}\\}+2\\beta\\{\\ddot{u}_{n+1}\\}\\right)\n",
    "$$\n",
    "\n",
    "$$ [Eq3] \\quad\n",
    "\\{\\dot{u}_{n+1}\\} = \\{\\dot{u}_{n}\\} + \\Delta t\\left((1-\\gamma)\\{\\ddot{u}_{n}\\}+\\gamma\\{\\ddot{u}_{n+1}\\}\\right)\n",
    "$$"
   ]
  },
  {
   "cell_type": "markdown",
   "metadata": {},
   "source": [
    "### Time-discretization parameters"
   ]
  },
  {
   "cell_type": "markdown",
   "metadata": {},
   "source": [
    "Parameters of the Newmark-β method.\n",
    "A popular choice of parameters which ensures unconditional stability, optimal dissipation and second-order accuracy is:\n",
    "$$\\gamma=\\frac{1}{2},\\quad \\beta=\\frac{1}{4}$$"
   ]
  },
  {
   "cell_type": "code",
   "execution_count": null,
   "metadata": {},
   "outputs": [],
   "source": [
    "gamma = 1./2.\n",
    "beta = 1./4."
   ]
  },
  {
   "cell_type": "markdown",
   "metadata": {},
   "source": [
    "A time step $n$, when $u_n$, $\\dot{u}_n$, and $\\ddot{u}_n$ are known, [Eq1-2-3] can be used to write an equation for $\\ddot{u}_{n+1}$ \n",
    "\n",
    "$$ [Eq4] \\quad \n",
    "[A] \\, \\{\\ddot{u}_{n+1}\\} = \\{F(t_{n+1})\\} - [K] \\, \\{\\hat{u}_n\\} - [C] \\, \\{\\hat{\\dot{u}}_n\\}\n",
    "$$\n",
    "\n",
    "with \n",
    "\\begin{equation*}\n",
    "[A] =  [M] + \\gamma\\Delta t\\, [C] + \\beta\\Delta t^2\\, [K] \\\\\n",
    "\\{\\hat{u}_n\\} = \\{u_n\\} + \\Delta t \\, \\{\\dot{u}_n\\} + \\frac{\\Delta t^2}{2} \\, (1-2\\beta) \\, \\{\\ddot{u}_n\\} \\\\\n",
    "\\{\\hat{\\dot{u}}_n\\} = \\{\\dot{u}_n\\} + \\Delta t \\, (1-\\gamma) \\, \\{\\ddot{u}_n\\}\n",
    "\\end{equation*}"
   ]
  },
  {
   "cell_type": "markdown",
   "metadata": {},
   "source": [
    "Then, once [Eq4] is solved and we know $\\{\\ddot{u}_{n+1}\\}$, we update the values of $\\{u_n\\}$ and $\\{\\dot{u}_n\\}$ using [EQ2] and [EQ3]:\n",
    "$$ \n",
    "[EQ5]\\quad  \\{u_{n+1}\\} =  \\{ \\hat{u}_n\\} + \\Delta t^2 \\, \\beta \\, \\{\\ddot{u}_{n+1}\\}\n",
    "$$\n",
    "and\n",
    "$$\n",
    "[EQ6]\\quad  \\{\\dot{u}_{n+1}\\} =  \\{ \\hat{\\dot{u}}_n\\} + \\Delta t \\, \\gamma \\, \\{\\ddot{u}_{n+1}\\}\n",
    "$$"
   ]
  },
  {
   "cell_type": "code",
   "execution_count": null,
   "metadata": {},
   "outputs": [],
   "source": [
    "# Definitions of operators, bilinear and linear forms\n",
    "\n",
    "acc = ufl.TrialFunction(V) # unknown field for the acceleration\n",
    "\n",
    "def A(acc, v): #this is used in EQ4\n",
    "    return mass(acc, v) + XXX\n",
    "\n",
    "f_load = p_ext(v) - XXX #this is used in EQ4\n",
    "\n",
    "#this is EQ4\n",
    "problem = dolfinx.fem.petsc.LinearProblem(A(acc,v), f_load, bcs=[bc], \n",
    "                                              petsc_options={\"ksp_type\": \"preonly\", \"pc_type\": \"lu\"})"
   ]
  },
  {
   "cell_type": "markdown",
   "metadata": {},
   "source": [
    "## Time discretization"
   ]
  },
  {
   "cell_type": "code",
   "execution_count": null,
   "metadata": {},
   "outputs": [],
   "source": [
    "u_sol.x.set(0)\n",
    "vit_sol.x.set(0)\n",
    "acc_sol.x.set(0)\n",
    "   \n",
    "times = dt*np.arange(num_steps+1, dtype=np.float64)\n",
    "displ_tip = np.zeros_like(times)\n",
    "extension_strain = 0.0*times # Could we have written np.zeros_like(times)?\n",
    "\n",
    "energies = np.zeros((num_steps+1, 4), dtype=np.float64)\n",
    "E_damp = 0\n",
    "E_elas = 0\n",
    "E_ext = 0\n",
    "E_kin = 0\n",
    "\n",
    "with dolfinx.io.XDMFFile(my_domain.comm, \"output_dyn_impl/time_steps_u.xdmf\", \"w\") as file:\n",
    "    file.write_mesh(my_domain)\n",
    "\n",
    "with dolfinx.io.XDMFFile(my_domain.comm, \"output_dyn_impl/elastodynamicsresults_stress.xdmf\", \"w\") as file_stress:\n",
    "    file_stress.write_mesh(my_domain)\n",
    "    \n",
    "time_solve = 0.\n",
    "\n",
    "for n in range(num_steps):\n",
    "    if (n%100 == 0):\n",
    "        print(n,' / ', num_steps)\n",
    "\n",
    "    # 1. Predictor step\n",
    "    # here you have to define hat(u) and hat(dot(u))\n",
    "    # you can use U.vector.axpy(b,V) : this does U=U+bV\n",
    "    # where U and V are vectors and b is a scalar\n",
    "    u_XXX.vector.axpy(XXX)\n",
    "    vit_XXX.vector.axpy(XXX)\n",
    "\n",
    "    # Update the traction value : F(t_{n+1})\n",
    "    traction.value = XXX\n",
    "    \n",
    "    # 2. Update acceleration\n",
    "    # Solve with  A acc = ...\n",
    "    XXX = problem.solve()\n",
    "    \n",
    "    # 3. Corrector step\n",
    "    # here we have to update u_sol and vit_sol, using EQ5 and EQ6\n",
    "    u_XXX.vector.axpy(XXX, XXX)\n",
    "    vit_XXX.vector.axpy(XXX, acc_sol.vector)\n",
    "    \n",
    "    # Postprocessing \n",
    "    displ_tip[n+1] = extract.solution(my_domain, u_sol, coords_tip[0], coords_tip[1])[0]\n",
    "    E_elas = dolfinx.fem.assemble_scalar(dolfinx.fem.form(0.5*stiffness(u_sol, u_sol)))\n",
    "    E_kin = dolfinx.fem.assemble_scalar(dolfinx.fem.form(0.5*mass(vit_sol, vit_sol)))\n",
    "    E_damp += dt*dolfinx.fem.assemble_scalar(dolfinx.fem.form(damping(vit_sol, vit_sol)))\n",
    "    E_tot = E_elas+E_kin+E_damp\n",
    "    energies[n+1, :] = np.array([E_elas, E_kin, E_damp, E_tot])\n",
    "\n",
    "    # Stress computation\n",
    "    eps_xx.interpolate(eps_xx_expr)\n",
    "    extension_strain[n+1] = extract.solution(my_domain, eps_xx, 0.5*L, 0.25*d)\n",
    "\n",
    "    if (n%10 == 0):\n",
    "        file.write_function(u_sol, (n+1)*dt)\n",
    "        file_stress.write_function(eps_xx, (n+1)*dt)\n",
    "\n",
    "# Close xmdf file\n",
    "file.close()\n",
    "file_stress.close()\n",
    "print('Total time for Lin. Alg. solving:',time_solve)\n",
    "print('Total time for file saving:',XXX)\n",
    "print('Total time for stress interpolation:',XXX)\n",
    "print('Interesting other total time (what for?):',XXX)"
   ]
  },
  {
   "cell_type": "code",
   "execution_count": null,
   "metadata": {},
   "outputs": [],
   "source": [
    "plt.plot(times, extension_strain, '.-')\n",
    "plt.xlabel(\"Time\")\n",
    "plt.ylabel(\"eps_xx(0.5L ; 0.25 d)\")\n",
    "plt.show()"
   ]
  },
  {
   "cell_type": "code",
   "execution_count": null,
   "metadata": {},
   "outputs": [],
   "source": [
    "plt.figure()\n",
    "plt.plot(times, displ_tip, '.-')\n",
    "plt.plot(times, sigma_max*L/Y*np.ones_like(times), '--g') # what is this limit?\n",
    "plt.plot(times, -sigma_max*L/Y*np.ones_like(times), '--g') # what is this limit?\n",
    "plt.grid()\n",
    "plt.xlabel(\"Time\")\n",
    "plt.ylabel(\"Tip displacement\")\n",
    "#plt.savefig(\"tip_displacement.png\")"
   ]
  },
  {
   "cell_type": "code",
   "execution_count": null,
   "metadata": {},
   "outputs": [],
   "source": [
    "plt.figure()\n",
    "plt.plot(times, energies)\n",
    "plt.legend((\"elastic\", \"kinetic\", \"damping\", \"total\"))\n",
    "plt.xlabel(\"Time\")\n",
    "plt.ylabel(\"Energies\")\n",
    "plt.show()"
   ]
  },
  {
   "cell_type": "markdown",
   "metadata": {},
   "source": [
    "# Questions\n",
    "\n",
    "Here, we do not consider any physical disspation (eta_m=0, eta_k=0).\n",
    "\n",
    "1 - We set E=1, nu=0.3, Lx=1, Ly=0.1, rho=1. What is the period of the oscillations? What kind of oscillations is this? (Use paraview to decide). How does this period change if we (i) divide Lx by 2? (ii) multiply Lx by 2? Compare with the analytical value for a bar in extension/compression.\n",
    "\n",
    "1.5 With same parameter values (E=1, nu=0.3, Lx=1, Ly=0.1, rho=1), solve the dynamics when the external load is vertical. What kind of oscillations is this? (Use paraview to decide). How does this period change if we (i) divide Lx by 2? (ii) multiply Lx by 2? Compare with the analytical value for an Euler-Bernoulli beam in flexural vibrations.\n",
    "\n",
    "2 - Compare the value of the current time step with the critical time step of the Courant condition of the explicit method (dt_crit = rmin/np.sqrt(E/rho.values()) for the Courant condition)\n",
    "\n",
    "3 - Test the case $\\gamma < \\frac{1}{2}$.\n",
    "\n",
    "4 - Test the case $\\gamma > \\frac{1}{2}$ and $2\\beta > \\gamma$. What is happening?\n",
    "\n",
    "4.5 - In the plane $(\\gamma,\\beta)$, find the regions where the algorithm is unstable, conditionally stable, and unconditionaly stable. Stay in the region where $\\gamma<1$ and $\\beta<0.5$.\n",
    "\n",
    "5 - What happens for low values of $t_c$ like $t_c=0.02$? What to change to have a program that works correctly? Which strategy to adopt for very small values of $t_c$?\n",
    "\n",
    "6 - Compare the time taken by the computer to (i) solve the linear algebra system at each time step, (ii) write the output files, (iii) execute the rest of the (time-step) loop. Where does the compute spend most time? Which dolfin function is time-consuming? Does this change with parameters?\n",
    "\n",
    "7 - Write up a python function that perfoms time integration of the system and exports xdmf files to be open with Paraview. The function will take inputs such as Young's modulus, size of the system, time-step, etc."
   ]
  },
  {
   "cell_type": "code",
   "execution_count": null,
   "metadata": {},
   "outputs": [],
   "source": []
  }
 ],
 "metadata": {
  "kernelspec": {
   "display_name": "Python 3 (ipykernel)",
   "language": "python",
   "name": "python3"
  },
  "language_info": {
   "codemirror_mode": {
    "name": "ipython",
    "version": 3
   },
   "file_extension": ".py",
   "mimetype": "text/x-python",
   "name": "python",
   "nbconvert_exporter": "python",
   "pygments_lexer": "ipython3",
   "version": "3.10.6"
  }
 },
 "nbformat": 4,
 "nbformat_minor": 4
}
