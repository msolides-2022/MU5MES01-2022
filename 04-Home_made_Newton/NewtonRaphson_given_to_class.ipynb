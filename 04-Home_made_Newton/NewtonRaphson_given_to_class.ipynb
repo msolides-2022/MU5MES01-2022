{
 "cells": [
  {
   "cell_type": "markdown",
   "metadata": {},
   "source": [
    "# Implementation of a Newton–Raphson solver for nonlinear elasticity"
   ]
  },
  {
   "cell_type": "markdown",
   "metadata": {},
   "source": [
    "In this notebook, we will analyse the same problem as in the previous notebook [HyperelasticSolid.ipynb](HyperelasticSolid.ipynb). However, this time, we will implement or own Newton–Raphson solver, rather than rely on FEniCS's `NewtonSolver`. \n",
    "\n",
    "This notebook is inspired by the demo: https://jorgensd.github.io/dolfinx-tutorial/chapter4/newton-solver.html.\n",
    "\n",
    "\n",
    "You need to fill in the blank lines that are indicated as follows\n",
    "```\n",
    "# COMPLETE THIS LINE or XXX\n",
    "```\n",
    "\n",
    "Until you do that, the Notebook will *not* work properly.\n",
    "\n",
    "Please complete the code and answear questions (these questions here and there in the code are typical questions that we could ask you during the final oral exam)."
   ]
  },
  {
   "cell_type": "markdown",
   "metadata": {},
   "source": [
    "## Setting up the problem"
   ]
  },
  {
   "cell_type": "markdown",
   "metadata": {},
   "source": [
    "The code below is merely a copy/paste of the code from the previous sessions, as we use the same problem to illustrate the implementation of the Newton–Raphson iterations"
   ]
  },
  {
   "cell_type": "markdown",
   "metadata": {},
   "source": [
    "We first import and setup the usual modules."
   ]
  },
  {
   "cell_type": "code",
   "execution_count": null,
   "metadata": {},
   "outputs": [],
   "source": [
    "import dolfinx \n",
    "from dolfinx import nls\n",
    "import matplotlib.pyplot as plt\n",
    "import ufl \n",
    "import numpy as np\n",
    "from mpi4py import MPI\n",
    "from petsc4py.PETSc import ScalarType\n",
    "from petsc4py import PETSc\n",
    "import pyvista\n",
    "import extract\n",
    "from dolfinx import log"
   ]
  },
  {
   "cell_type": "markdown",
   "metadata": {},
   "source": [
    "### Parameters of the simulation"
   ]
  },
  {
   "cell_type": "markdown",
   "metadata": {},
   "source": [
    "Place here the parameters that can be changed without altering the logics of the code."
   ]
  },
  {
   "cell_type": "code",
   "execution_count": null,
   "metadata": {},
   "outputs": [],
   "source": [
    "Lx, Ly = 1.0, 0.1 # Dimensions of the beam\n",
    "nx, ny = 60, 6 # Number of elements in each direction\n",
    "Y, nu = 1, 0.3 # Young modulus and Poisson ratio\n",
    "rhog_light = 0.005 # small weight\n",
    "print('Gamma light',12*rhog_light*Lx**3/Ly**2)  # Gamma = Mg / (EI/L^2)\n",
    "rhog_heavy = 0.01 # large weight\n",
    "print('Gamma heavy',12*rhog_heavy*Lx**3/Ly**2)  # Gamma = Mg / (EI/L^2)\n",
    "output_dir = \"nr_output\""
   ]
  },
  {
   "cell_type": "markdown",
   "metadata": {},
   "source": [
    "### Mesh"
   ]
  },
  {
   "cell_type": "code",
   "execution_count": null,
   "metadata": {},
   "outputs": [],
   "source": [
    "my_domain = dolfinx.mesh.create_rectangle(comm=MPI.COMM_WORLD, points=((0,0),(Lx,Ly)), n=(nx, ny), \n",
    "                                     cell_type=dolfinx.mesh.CellType.triangle)\n",
    "\n",
    "def left(x):\n",
    "    return np.isclose(x[0], 0)\n",
    "\n",
    "def right(x):\n",
    "    return np.isclose(x[0], Lx)\n",
    "\n",
    "fdim = my_domain.topology.dim -1\n",
    "left_facets = dolfinx.mesh.locate_entities_boundary(my_domain, fdim, left)\n",
    "right_facets = dolfinx.mesh.locate_entities_boundary(my_domain, fdim, right)\n",
    "\n",
    "# Concatenate and sort the arrays based on facet indices. Left facets marked with 1, right facets with 2\n",
    "marked_facets = np.hstack([left_facets, right_facets])\n",
    "marked_values = np.hstack([np.full_like(left_facets, 1), np.full_like(right_facets, 2)])\n",
    "sorted_facets = np.argsort(marked_facets)\n",
    "facet_tag = dolfinx.mesh.meshtags(my_domain, fdim, marked_facets[sorted_facets], marked_values[sorted_facets])\n",
    "\n",
    "ds = ufl.Measure('ds', domain=my_domain, subdomain_data=facet_tag)\n",
    "dx = ufl.Measure(\"dx\", domain=my_domain)"
   ]
  },
  {
   "cell_type": "markdown",
   "metadata": {},
   "source": [
    "### Function space"
   ]
  },
  {
   "cell_type": "code",
   "execution_count": null,
   "metadata": {},
   "outputs": [],
   "source": [
    "V = dolfinx.fem.VectorFunctionSpace(my_domain, (\"CG\", 2))\n",
    "u = dolfinx.fem.Function(V)"
   ]
  },
  {
   "cell_type": "markdown",
   "metadata": {},
   "source": [
    "### Potential energy"
   ]
  },
  {
   "cell_type": "markdown",
   "metadata": {},
   "source": [
    "We first define the strain energy of a (compressible) Kirchhoff Saint-Venant material."
   ]
  },
  {
   "cell_type": "code",
   "execution_count": null,
   "metadata": {},
   "outputs": [],
   "source": [
    "dim = len(u)\n",
    "I = ufl.variable(ufl.Identity(dim))\n",
    "F = ufl.variable(I + ufl.grad(u))\n",
    "C = ufl.variable(F.T * F)\n",
    "E = ufl.variable(1/2*(C-I))\n",
    "Ic = ufl.tr(C)\n",
    "Jdet  = ufl.det(F)\n",
    "mu = Y/(2*(1 + nu))\n",
    "lmbda = Y*nu/((1 + nu)*(1 - 2*nu))\n",
    "# lmbda2D = 2*lmbda*mu/(lmbda + 2*mu) \n",
    "psi = lmbda*ufl.tr(E)**2/2+mu*ufl.inner(E,E) # kirchhoff saint venant \n",
    "#psi = (mu/2)*(Ic - 2) - mu*ufl.ln(Jdet) + (lmbda/2)*(ufl.ln(Jdet))**2 # Neohookean"
   ]
  },
  {
   "cell_type": "markdown",
   "metadata": {},
   "source": [
    "We then define the loading (body forces $b_0 = \\rho \\, g$)."
   ]
  },
  {
   "cell_type": "code",
   "execution_count": null,
   "metadata": {},
   "outputs": [],
   "source": [
    "rhog = dolfinx.fem.Constant(my_domain, ScalarType((0, 0)))"
   ]
  },
  {
   "cell_type": "markdown",
   "metadata": {},
   "source": [
    "We can now define the potential energy and its derivatives w.r.t the displacement ```u```."
   ]
  },
  {
   "cell_type": "code",
   "execution_count": null,
   "metadata": {},
   "outputs": [],
   "source": [
    "potential_energy = psi*dx - ufl.inner(u, rhog)*dx\n",
    "v = ufl.TestFunction(V)\n",
    "residual = ufl.derivative(potential_energy, u, v)"
   ]
  },
  {
   "cell_type": "markdown",
   "metadata": {},
   "source": [
    "Boundary conditions for a built-in support on the left-hand side."
   ]
  },
  {
   "cell_type": "code",
   "execution_count": null,
   "metadata": {},
   "outputs": [],
   "source": [
    "left_dofs = dolfinx.fem.locate_dofs_topological(V, facet_tag.dim, facet_tag.find(1))\n",
    "u_bc = np.array((0,) * my_domain.geometry.dim, dtype=ScalarType)\n",
    "bc = dolfinx.fem.dirichletbc(u_bc, left_dofs,V)"
   ]
  },
  {
   "cell_type": "markdown",
   "metadata": {},
   "source": [
    "### Computing the reference solution"
   ]
  },
  {
   "cell_type": "markdown",
   "metadata": {},
   "source": [
    "We use the built-in non-linear solver to compute a reference solution, which we will compare to the solution computed with our own NR solver."
   ]
  },
  {
   "cell_type": "code",
   "execution_count": null,
   "metadata": {},
   "outputs": [],
   "source": [
    "# We use dolfinx newton solver to compute the reference solution\n",
    "log.set_log_level(log.LogLevel.INFO)\n",
    "problem = dolfinx.fem.petsc.NonlinearProblem(residual, u, bcs=[bc])\n",
    "solverNL = nls.petsc.NewtonSolver(my_domain.comm, problem)\n",
    "solverNL.atol = 1e-8\n",
    "solverNL.rtol = 1e-8\n",
    "solverNL.max_it = 120\n",
    "solverNL.convergence_criterion = \"incremental\" \n",
    "u.x.set(0) # the seed sent to newton is the undeformed state u(x,y)=0 for all x,y\n",
    "with dolfinx.io.XDMFFile(my_domain.comm, output_dir+\"/ref_solution.xdmf\", \"w\") as file:\n",
    "    file.write_mesh(my_domain) # we export the mesh to paraview\n",
    "    \n",
    "rhog.value[1] = -rhog_light # we set the intensity of gravity\n",
    "num_its, converged = solverNL.solve(u) # we call the dolfinx newton solver\n",
    "print('number of iterations in Newton solver:',num_its)\n",
    "print('Has it converged?:',converged)\n",
    "with dolfinx.io.XDMFFile(my_domain.comm, output_dir+\"/ref_solution.xdmf\", \"a\") as file:\n",
    "    file.write_function(u) # we export the deformed configuration to paraview\n",
    "displ = dolfinx.fem.assemble_scalar(dolfinx.fem.form(u[1]*ds(2)))/Ly # we compute < u_y(L,y) >\n",
    "print('End-displacement = ',displ)\n",
    "log.set_log_level(log.LogLevel.ERROR)"
   ]
  },
  {
   "cell_type": "code",
   "execution_count": null,
   "metadata": {},
   "outputs": [],
   "source": [
    "u_ref = u.copy() # we keep this reference solution "
   ]
  },
  {
   "cell_type": "markdown",
   "metadata": {},
   "source": [
    "## Implementation of the Newton–Raphson solver"
   ]
  },
  {
   "cell_type": "markdown",
   "metadata": {},
   "source": [
    "A few definitions."
   ]
  },
  {
   "cell_type": "code",
   "execution_count": null,
   "metadata": {},
   "outputs": [],
   "source": [
    "J = ufl.derivative(XXX, u) # jacobian of the newton method\n",
    "J_form = dolfinx.fem.form(J)\n",
    "r_form = dolfinx.fem.form(residual)\n",
    "A = dolfinx.fem.petsc.create_matrix(J_form)\n",
    "L = dolfinx.fem.petsc.create_vector(r_form)\n",
    "# Which system is solved at each Newton iteration?\n",
    "# What is the unknown?"
   ]
  },
  {
   "cell_type": "markdown",
   "metadata": {},
   "source": [
    "Setting up the linear solver, you can try to change the options"
   ]
  },
  {
   "cell_type": "code",
   "execution_count": null,
   "metadata": {},
   "outputs": [],
   "source": [
    "solver = PETSc.KSP().create(my_domain.comm) # linear solver in our newton method\n",
    "opts = PETSc.Options()\n",
    "opts[\"ksp_type\"] = \"cg\" # choices \"preonly\" \"cg\"\n",
    "opts[\"ksp_rtol\"] = 1.0e-10\n",
    "opts[\"ksp_max_it\"] = 500\n",
    "opts[\"pc_type\"] = \"lu\" # (precond) choices : \"gamg\" \"lu\" \"none\" \"mg\" \"hypre\"\n",
    "solver.setFromOptions()"
   ]
  },
  {
   "cell_type": "code",
   "execution_count": null,
   "metadata": {},
   "outputs": [],
   "source": [
    "solver.setOperators(XXX) # we should put the matrix operator here\n",
    "du = dolfinx.fem.Function(V) # this is the unkown of the linear solver du = u_{k+1} - u_k"
   ]
  },
  {
   "cell_type": "code",
   "execution_count": null,
   "metadata": {},
   "outputs": [],
   "source": [
    "i = 0\n",
    "rhog.value[1] = - rhog_light # we set the intensity of gravity\n",
    "max_iterations = 35\n",
    "u.x.set(0) # the seed sent to newton is the undeformed state u(x,y)=0 for all x,y\n",
    "liste_correction_norm = []\n",
    "liste_residual_norm = []\n",
    "liste_L2_err_norm = []\n",
    "while i < max_iterations:\n",
    "    # At each step, we solve a linear problem\n",
    "    \n",
    "    # Assemble Jacobian and residual\n",
    "    # Question: Why do we have to re-evaluate the jacobian and residual\n",
    "    # at _each_ step ?\n",
    "    \n",
    "    XXX\n",
    "    \n",
    "    XXX\n",
    "    \n",
    "    # Scale residual by -1\n",
    "    L.scale(-1) # Question: why do we do this?\n",
    "    \n",
    "    # for dirichelet boudary conditions, we want ot work with symetrical matrices\n",
    "    dolfinx.fem.petsc.apply_lifting(XXX)\n",
    "    dolfinx.fem.petsc.set_bc(XXX)\n",
    "\n",
    "    \n",
    "    # Solve linear problem\n",
    "    solver.solve(XXX, du.vector)\n",
    "    \n",
    "    # update the displacement field u\n",
    "    u.x.array[:] += XXX\n",
    "    i = i + 1\n",
    "\n",
    "    \n",
    "    # Compute norm of update\n",
    "    correction_norm = XXX\n",
    "    liste_correction_norm.append(correction_norm)\n",
    "    residu_norm = np.linalg.norm(L.array)\n",
    "    liste_residual_norm.append(residu_norm)\n",
    "    L2_error_norm = XXX\n",
    "    liste_L2_err_norm.append(XXX)\n",
    "    print(f\"Iteration {i}: Correction norm {correction_norm:3.2e}, Residual norm {residu_norm:3.2e}, Norm_L2(u_ref-u) {L2_error_norm:3.2e}\")\n",
    "    \n",
    "    if L2_error_norm < 1e-14:\n",
    "        break\n",
    "    if correction_norm < 1e-10:\n",
    "        break"
   ]
  },
  {
   "cell_type": "code",
   "execution_count": null,
   "metadata": {},
   "outputs": [],
   "source": [
    "displ = dolfinx.fem.assemble_scalar(dolfinx.fem.form(u[1]*ds(2)))/Ly # we compute < u_y(L,y) >\n",
    "print('End-displacement = ',displ)\n",
    "# is it the same value as before?"
   ]
  },
  {
   "cell_type": "code",
   "execution_count": null,
   "metadata": {},
   "outputs": [],
   "source": [
    "# Please plot u(x,0) for the reference solution and the\n",
    "# solution you have juste found"
   ]
  },
  {
   "cell_type": "code",
   "execution_count": null,
   "metadata": {},
   "outputs": [],
   "source": [
    "# Please compute the L2 error norm "
   ]
  },
  {
   "cell_type": "code",
   "execution_count": null,
   "metadata": {},
   "outputs": [],
   "source": [
    "# Please export the deformed shape in paraview and compare with the reference solution"
   ]
  },
  {
   "cell_type": "code",
   "execution_count": null,
   "metadata": {},
   "outputs": [],
   "source": [
    "# Please plot the norm of du, the norm of the residual, and the L2 error as function\n",
    "# of the iteration "
   ]
  },
  {
   "cell_type": "code",
   "execution_count": null,
   "metadata": {},
   "outputs": [],
   "source": [
    "# Please plot the L2 error at step k+1 as function of the L2 error at step k\n",
    "# Is it ordre 1, 2, or 3?"
   ]
  },
  {
   "cell_type": "code",
   "execution_count": 15,
   "metadata": {},
   "outputs": [],
   "source": [
    "# Export to xdmf format the different configurations at each newton iteration\n",
    "# Are these configurations \"equilibrium configuration\"?"
   ]
  },
  {
   "cell_type": "markdown",
   "metadata": {},
   "source": [
    "# Rotation of the gravity field"
   ]
  },
  {
   "cell_type": "code",
   "execution_count": null,
   "metadata": {},
   "outputs": [],
   "source": [
    "# Change the orientation of gravity, and compute u_y(L,0) for alpha_i in [-pi/2;pi/2]\n",
    "rhog.value[0]=-rhog_light*np.cos(alpha_i)\n",
    "rhog.value[1]=-rhog_light*np.sin(alpha_i)\n",
    "# do the same for rhog_heavy"
   ]
  },
  {
   "cell_type": "markdown",
   "metadata": {},
   "source": [
    "`Question` : how many solutions are there for each value of alpha_i?"
   ]
  },
  {
   "cell_type": "markdown",
   "metadata": {},
   "source": [
    "# `Further questions`"
   ]
  },
  {
   "cell_type": "markdown",
   "metadata": {},
   "source": [
    "`Question 1` Sometimes the Jacobian is too long to compute. Only compute it once (or twice, or ...) and keep it the same for the remaining of the iterations and see if your obtain convergence.\n",
    "\n",
    "`Question 2` Refine the mesh and observe how the number of steps to obtained convergence is affected.\n"
   ]
  }
 ],
 "metadata": {
  "kernelspec": {
   "display_name": "Python 3 (ipykernel)",
   "language": "python",
   "name": "python3"
  },
  "language_info": {
   "codemirror_mode": {
    "name": "ipython",
    "version": 3
   },
   "file_extension": ".py",
   "mimetype": "text/x-python",
   "name": "python",
   "nbconvert_exporter": "python",
   "pygments_lexer": "ipython3",
   "version": "3.10.6"
  }
 },
 "nbformat": 4,
 "nbformat_minor": 4
}
