{
 "cells": [
  {
   "cell_type": "markdown",
   "id": "59d2c700-1565-470d-bf73-58983c70d124",
   "metadata": {
    "tags": []
   },
   "source": [
    "# Tilted Towers 2022"
   ]
  },
  {
   "cell_type": "markdown",
   "id": "94fc0736-db85-4530-af14-c15d5c553973",
   "metadata": {},
   "source": [
    "![](tilted_towers.png)"
   ]
  },
  {
   "cell_type": "markdown",
   "id": "01db72ea-6fee-4d8f-a53c-1cd0dcf257b2",
   "metadata": {},
   "source": [
    "We consider a concrete (fr-béton, it-calcestruzzo) column loaded by its own weight.\n",
    "\n",
    "In reality, the geometry of the built structure is never perfect. In particular,\n",
    "we assume here that the tower, although perfectly straight in its reference configuration, makes a small angle\n",
    "`α` with the direction of gravity.\n",
    "\n",
    "The self-weight of the column induces compression in the material.\n",
    "\n",
    "The lack of verticality opens the possibility of having some tension in the\n",
    "structure, and concrete cannot sustain any tension. The point where tension could emerge first is at the\n",
    "base of the column, point A.\n",
    "\n",
    "The lack of verticality also introduces some added compression in the\n",
    "structure, and concrete cannot sustain a compression larger than `fc = 45 MPa`.\n",
    "The point of maximum compression is at the base of the column, point B.\n",
    "\n",
    "There are then two ways by which the system could become unsafe.\n",
    "\n",
    "We use the following parameter values: Young's modulus of concrete: `Y=37 GPa`; Poisson's ratio of concrete: `nu=0.35`; density: `ρ = 2500 kg/m³`; compressive strength: `fc = 45 MPa`; acceleration of gravity: `g = 9.8 (SI)`); tilt: `α=0.0045 radians`.\n",
    "\n",
    "We work in `plane strain`."
   ]
  },
  {
   "cell_type": "markdown",
   "id": "4c3b1bd5-d183-461c-9458-988f42c734d9",
   "metadata": {},
   "source": [
    "![](configuration.png)"
   ]
  },
  {
   "cell_type": "markdown",
   "id": "ba5ae124-7dfa-423b-92b7-43fd23c71944",
   "metadata": {},
   "source": [
    "## `Questions starts here`"
   ]
  },
  {
   "cell_type": "markdown",
   "id": "ec234b77-9a61-478e-a68b-b573a9ec60ef",
   "metadata": {},
   "source": [
    "Q1) For a column of width `w`=10 m, what is the maximum length `L` for which the system is safe?"
   ]
  },
  {
   "cell_type": "markdown",
   "id": "a1e1a75c-e4fc-467b-bdec-73546ae88ad8",
   "metadata": {},
   "source": [
    "Q2) In the plane (w,L), plot the safe region."
   ]
  },
  {
   "cell_type": "code",
   "execution_count": null,
   "id": "eafed087-6f0e-4be5-a3bc-18496b75ef15",
   "metadata": {},
   "outputs": [],
   "source": []
  },
  {
   "cell_type": "code",
   "execution_count": null,
   "id": "d503c054-1e85-4e6c-9fac-88b7959aaf2b",
   "metadata": {},
   "outputs": [],
   "source": []
  },
  {
   "cell_type": "code",
   "execution_count": null,
   "id": "04d4366b-30c8-4395-8c69-afd254e18757",
   "metadata": {},
   "outputs": [],
   "source": []
  }
 ],
 "metadata": {
  "kernelspec": {
   "display_name": "Python 3 (ipykernel)",
   "language": "python",
   "name": "python3"
  },
  "language_info": {
   "codemirror_mode": {
    "name": "ipython",
    "version": 3
   },
   "file_extension": ".py",
   "mimetype": "text/x-python",
   "name": "python",
   "nbconvert_exporter": "python",
   "pygments_lexer": "ipython3",
   "version": "3.10.6"
  }
 },
 "nbformat": 4,
 "nbformat_minor": 5
}
