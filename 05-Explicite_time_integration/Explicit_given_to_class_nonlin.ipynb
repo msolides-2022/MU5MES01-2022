{
 "cells": [
  {
   "cell_type": "markdown",
   "metadata": {},
   "source": [
    "# Dynamics of an elastic beam: explicit time integration\n",
    "In this notebook, we investigate the dynamics of an elastic beam using a linear and a nonlinear model. The beam is subjected to an external traction $\\sigma_{ext}$ at one of its two ends over a short time period. We compute the dynamics of the beam using an explicit time-stepping scheme.\n"
   ]
  },
  {
   "cell_type": "markdown",
   "metadata": {},
   "source": [
    "![shema](setup_dynamics.png)"
   ]
  },
  {
   "cell_type": "code",
   "execution_count": null,
   "metadata": {},
   "outputs": [],
   "source": [
    "import dolfinx\n",
    "import numpy as np\n",
    "import matplotlib.pyplot as plt\n",
    "import ufl\n",
    "import time\n",
    "from mpi4py import MPI\n",
    "from petsc4py.PETSc import ScalarType\n",
    "import pyvista\n",
    "import extract"
   ]
  },
  {
   "cell_type": "markdown",
   "metadata": {
    "tags": []
   },
   "source": [
    "### Definition of the geometry and the mesh\n",
    "\n",
    "We consider a cantilever beam of size `L × d` (2D, plane stress), fixed at its `x = 0` end, and subjected to an axial or transverse load at `x = L`. "
   ]
  },
  {
   "cell_type": "code",
   "execution_count": null,
   "metadata": {},
   "outputs": [],
   "source": [
    "# geometry and mesh \n",
    "L = 1.0 # total length\n",
    "d = 0.1*L # thickness\n",
    "h = 0.2*d # size of a cell\n",
    "\n",
    "my_domain = dolfinx.mesh.create_rectangle(comm=MPI.COMM_WORLD,\n",
    "                            points=((0.0, -0.5*d), (L, 0.5*d)), n=(int(L/h), int(d/h)),\n",
    "                            cell_type=dolfinx.mesh.CellType.triangle)\n",
    "\n",
    "# Save the mesh in XDMF format\n",
    "with dolfinx.io.XDMFFile(MPI.COMM_WORLD, \"output_dyn_expl/mesh.xdmf\", \"w\") as file:\n",
    "    file.write_mesh(my_domain)\n",
    "    my_domain.topology.create_connectivity(1, 2)"
   ]
  },
  {
   "cell_type": "code",
   "execution_count": null,
   "metadata": {},
   "outputs": [],
   "source": [
    "# Plot the mesh with pyvista\n",
    "#pyvista.start_xvfb()\n",
    "pyvista.set_jupyter_backend(\"none\") # non-interactif, mais mieux\n",
    "# pyvista.set_jupyter_backend(\"pythreejs\") # interactif, mais pas super\n",
    "topology, cells, geometry = dolfinx.plot.create_vtk_mesh(my_domain)\n",
    "function_grid = pyvista.UnstructuredGrid(topology, cells, geometry)\n",
    "plotter = pyvista.Plotter()\n",
    "plotter.add_mesh(function_grid, show_edges=True)\n",
    "plotter.show_bounds(grid='front', location='outer', all_edges=True)\n",
    "plotter.view_xy()\n",
    "plotter.show()"
   ]
  },
  {
   "cell_type": "code",
   "execution_count": null,
   "metadata": {},
   "outputs": [],
   "source": [
    "# Define the different parts of the boundary\n",
    "boundaries = [(1, lambda x: np.isclose(x[0], 0)),\n",
    "              (2, lambda x: np.isclose(x[0], L)),\n",
    "              (3, lambda x: np.isclose(x[1], -0.5*d)),\n",
    "              (4, lambda x: np.isclose(x[1], 0.5*d))]\n",
    "\n",
    "facet_indices, facet_markers = [], []\n",
    "fdim = my_domain.topology.dim - 1\n",
    "for (marker, locator) in boundaries:\n",
    "    facets = dolfinx.mesh.locate_entities(my_domain, fdim, locator)\n",
    "    facet_indices.append(facets) # here we put all the facets indices\n",
    "    facet_markers.append(np.full_like(facets, marker)) # here we put all the facets 'labels' (1, 2, 3 or 4)\n",
    "facet_indices = np.hstack(facet_indices).astype(np.int32) # concatenate everything in one big vector\n",
    "facet_markers = np.hstack(facet_markers).astype(np.int32)\n",
    "sorted_facets = np.argsort(facet_indices) # sorting\n",
    "facet_tag = dolfinx.mesh.meshtags(my_domain, fdim, facet_indices[sorted_facets], facet_markers[sorted_facets])"
   ]
  },
  {
   "cell_type": "code",
   "execution_count": null,
   "metadata": {},
   "outputs": [],
   "source": [
    "ds = ufl.Measure(\"ds\", domain=my_domain, subdomain_data=facet_tag)\n",
    "dx = ufl.dx(domain=my_domain)"
   ]
  },
  {
   "cell_type": "markdown",
   "metadata": {
    "tags": []
   },
   "source": [
    "### Material parameters"
   ]
  },
  {
   "cell_type": "code",
   "execution_count": null,
   "metadata": {},
   "outputs": [],
   "source": [
    "# Material parameters\n",
    "Y  = 1.\n",
    "nu = 0.3\n",
    "mu = Y/(2.*(1.+nu))\n",
    "lambda_ = Y*nu/((1.+nu)*(1.-2.*nu))\n",
    "# lambda_ = 2*lambda_*mu/(lambda_+2*mu) # plane stress\n",
    "rho = dolfinx.fem.Constant(my_domain,ScalarType(1.))\n",
    "\n",
    "# Damping parameters\n",
    "# The damping matrix C is defined as C = eta_m*M+eta_k*K\n",
    "eta_m = dolfinx.fem.Constant(my_domain,ScalarType(0.01))\n",
    "eta_k = dolfinx.fem.Constant(my_domain,ScalarType(0.00001))"
   ]
  },
  {
   "cell_type": "markdown",
   "metadata": {
    "tags": []
   },
   "source": [
    "### Definition of the problem in the linear and in the nonlinear case (finite deformations)"
   ]
  },
  {
   "cell_type": "code",
   "execution_count": null,
   "metadata": {},
   "outputs": [],
   "source": [
    "V = dolfinx.fem.VectorFunctionSpace(my_domain,(\"Lagrange\", 1),dim=2)"
   ]
  },
  {
   "cell_type": "code",
   "execution_count": null,
   "metadata": {},
   "outputs": [],
   "source": [
    "boundary_clamped_dofs = dolfinx.fem.locate_dofs_topological(V, facet_tag.dim, facet_tag.find(1)) # dofs on the left end of the bar\n",
    "\n",
    "#this is the boundary value of u(x,y) at the left border : it has to be zero (clamped)\n",
    "u_D = np.array([0,0], dtype=ScalarType)\n",
    "\n",
    "bc = dolfinx.fem.dirichletbc(u_D, boundary_clamped_dofs, V)"
   ]
  },
  {
   "cell_type": "code",
   "execution_count": null,
   "metadata": {},
   "outputs": [],
   "source": [
    "I2 = ufl.Identity(my_domain.topology.dim)\n",
    "# Kinematics\n",
    "def strain_displacement(u):\n",
    "    return ufl.sym(ufl.grad(u))\n",
    "\n",
    "def stress_linear(eps):\n",
    "    return lambda_*ufl.tr(eps)*I2+2.*mu*eps\n",
    "\n",
    "def stiffness_linear(u, v):\n",
    "    return ufl.inner(stress_linear(strain_displacement(u)),strain_displacement(v))*dx  "
   ]
  },
  {
   "cell_type": "code",
   "execution_count": null,
   "metadata": {},
   "outputs": [],
   "source": [
    "# Nonlinear setup\n",
    "    \n",
    "def energy_nonlinear(u):  \n",
    "    F  = ufl.variable(I2 + ufl.grad(u))  \n",
    "    CC = ufl.variable(F.T*F )                  \n",
    "    Ic = ufl.variable(ufl.tr(CC))\n",
    "    J  = ufl.variable(ufl.det(F))\n",
    "    E  = ufl.variable(1/2*(CC-I2))\n",
    "    # Stored strain energy density\n",
    "    # psi = lambda_*ufl.tr(E)**2/2 + mu*ufl.inner(E,E) # Saint Venant–Kirchhoff\n",
    "    psi = (mu/2)*(Ic - 2) - mu*ufl.ln(J) + (lambda_/2)*(ufl.ln(J))**2 # neo-Hookean\n",
    "    return psi*dx\n",
    "\n",
    "def stress_nonlinear(u):\n",
    "    F = ufl.variable(I2 + ufl.grad(u))  \n",
    "    CC = ufl.variable(F.T*F )                  \n",
    "    Ic = ufl.variable(ufl.tr(CC))\n",
    "    J  = ufl.variable(ufl.det(F))\n",
    "    E  = ufl.variable(1/2*(CC-I2))\n",
    "    # Stored strain energy density \n",
    "    # psi = lambda_*ufl.tr(E)**2/2 + mu*ufl.inner(E,E) # Saint Venant–Kirchhoff\n",
    "    psi = (mu/2)*(Ic - 2) - mu*ufl.ln(J) + (lambda_/2)*(ufl.ln(J))**2 # neo-Hookean\n",
    "    return ufl.diff(psi,F)\n",
    "\n",
    "def stiffness_nonlinear(u, v):\n",
    "    return ufl.inner(stress_nonlinear(u),ufl.grad(v))*dx"
   ]
  },
  {
   "cell_type": "code",
   "execution_count": null,
   "metadata": {},
   "outputs": [],
   "source": [
    "traction = dolfinx.fem.Constant(my_domain, ScalarType((0,0)))\n",
    "\n",
    "def mass(u, v):\n",
    "    return rho*ufl.inner(u, v)*dx\n",
    "\n",
    "def damping(u, v):\n",
    "    return eta_m*mass(u, v) + eta_k*stiffness_linear(u, v)\n",
    "\n",
    "def p_ext(u):\n",
    "    return ufl.dot(traction,u)*ds(2) # traction is applied at right end of bar"
   ]
  },
  {
   "cell_type": "code",
   "execution_count": null,
   "metadata": {},
   "outputs": [],
   "source": [
    "u = ufl.TrialFunction(V)\n",
    "u_bar = ufl.TestFunction(V)"
   ]
  },
  {
   "cell_type": "code",
   "execution_count": null,
   "metadata": {},
   "outputs": [],
   "source": [
    "# Lumped mass matrix\n",
    "ones = dolfinx.fem.Function(V)\n",
    "ones.x.set(1.)\n",
    "M_lumped_inv = dolfinx.fem.petsc.assemble_vector(dolfinx.fem.form(ufl.action(mass(u,u_bar), ones)))\n",
    "M_lumped_inv.array[:] = 1./M_lumped_inv.array[:]"
   ]
  },
  {
   "cell_type": "code",
   "execution_count": null,
   "metadata": {},
   "outputs": [],
   "source": [
    "u_sol = dolfinx.fem.Function(V)# displacement of the solution\n",
    "v_sol = dolfinx.fem.Function(V)# velocity of the solution\n",
    "a_sol = dolfinx.fem.Function(V)# acceleration of the solution"
   ]
  },
  {
   "cell_type": "code",
   "execution_count": null,
   "metadata": {},
   "outputs": [],
   "source": [
    "# We compute the strain tensor of the solution\n",
    "eps_solution = strain_displacement(u_sol)\n",
    "V_eps = dolfinx.fem.FunctionSpace(my_domain,(\"DG\", 0))\n",
    "eps_xx_expr = dolfinx.fem.Expression(eps_solution[0,0], V_eps.element.interpolation_points())\n",
    "eps_xx = dolfinx.fem.Function(V_eps)"
   ]
  },
  {
   "cell_type": "markdown",
   "metadata": {
    "tags": []
   },
   "source": [
    "### Parameters of the simulation"
   ]
  },
  {
   "cell_type": "markdown",
   "metadata": {},
   "source": [
    "#### Material, loading and time-discretization parameters\n",
    "\n",
    "A time-dependent traction is applied at the $x = L$ face as follows\n",
    "\\begin{equation}\n",
    "\\sigma_{ext} = \\begin{cases}\n",
    "\\displaystyle\\frac{t}{t_{\\mathrm{c}}}  \\sigma_{\\mathrm{max}} & t \\leq t_{\\mathrm{c}}\\\\[.2em]\n",
    "0 & t > t_{\\mathrm{c}}\n",
    "\\end{cases}\n",
    "\\end{equation}\n",
    "where $t_{\\mathrm{c}}$ is a “cut-off” time. Note that depending on the direction of the applied traction, we will need to select different values for `t_c` and `T_max`."
   ]
  },
  {
   "cell_type": "code",
   "execution_count": null,
   "metadata": {},
   "outputs": [],
   "source": [
    "# Here are some parameters that could be changed\n",
    "use_linear_model = True # True if the problem is linear, False for non linear problems\n",
    "use_lumped_mass = True # True if we use a lumped mass matrix, False for the usual mass matrix\n",
    "\n",
    "eta_m.value = 0.01  # example eta_m = 0.01\n",
    "eta_k.value = 0.00001 # example eta_k = 0.00001\n",
    "# Loading\n",
    "t_end = 7. # end time of the simulation\n",
    "num_steps  = 7000 # total number of steps for the entire simulation\n",
    "dt = t_end/num_steps\n",
    "\n",
    "t_cutoff = 2.0 # time duration for which we pull on the bar, this t_c\n",
    "sigma_max = 0.05 # sigma_max\n",
    "\n",
    "# Coordinates of the plotting point \n",
    "coords_tip = [L,0]"
   ]
  },
  {
   "cell_type": "markdown",
   "metadata": {
    "tags": []
   },
   "source": [
    "### Explicit time-stepping scheme"
   ]
  },
  {
   "cell_type": "markdown",
   "metadata": {},
   "source": [
    "![shema](time_steping.png)"
   ]
  },
  {
   "cell_type": "code",
   "execution_count": null,
   "metadata": {
    "tags": []
   },
   "outputs": [],
   "source": [
    "u_sol.x.set(0)\n",
    "v_sol.x.set(0)\n",
    "a_sol.x.set(0)\n",
    "\n",
    "if use_linear_model:\n",
    "    stiffness = stiffness_linear\n",
    "else:\n",
    "    stiffness = stiffness_nonlinear    \n",
    "    \n",
    "times = dt*np.arange(num_steps+1, dtype=np.float64)\n",
    "displ_tip = np.zeros_like(times)\n",
    "extension_strain = 0.0*times \n",
    "# what is the difference between np.zeros_like(times) and 0.0*times?\n",
    "\n",
    "energies = np.zeros((num_steps+1, 4), dtype=np.float64)\n",
    "E_damp = 0\n",
    "E_elas = 0\n",
    "E_ext = 0\n",
    "\n",
    "f_load = p_ext(u_bar) - stiffness(u_sol,u_bar) -  damping(v_sol,u_bar)# why these minus signs?\n",
    "\n",
    "problem = dolfinx.fem.petsc.LinearProblem(mass(u,u_bar), f_load, bcs=[bc], \n",
    "                                          petsc_options={\"ksp_type\": \"preonly\", \"pc_type\": \"lu\"})\n",
    "def load_eval(t):\n",
    "    if t <= t_cutoff:\n",
    "        return sigma_max*t/t_cutoff\n",
    "    else:\n",
    "        return 0\n",
    "    \n",
    "with dolfinx.io.XDMFFile(my_domain.comm, \"output_dyn_expl/time_steps_u.xdmf\", \"w\") as file:\n",
    "    file.write_mesh(my_domain)\n",
    "\n",
    "time_solve = 0.\n",
    "for n in range(num_steps):\n",
    "    if (n%500 == 0): # we print() every 500 steps\n",
    "        print(n,' / ', num_steps)\n",
    "        \n",
    "    traction.value = (load_eval((n+1)*dt),0) # along e_x\n",
    "\n",
    "    t1 = time.perf_counter()\n",
    "    if use_lumped_mass:\n",
    "        af = dolfinx.fem.petsc.assemble_vector(dolfinx.fem.form(f_load))\n",
    "        a_sol.x.array[:] = np.multiply(M_lumped_inv,af.array[:])\n",
    "        dolfinx.fem.set_bc(u_sol.vector, [bc])\n",
    "        dolfinx.fem.set_bc(v_sol.vector, [bc])\n",
    "        dolfinx.fem.set_bc(a_sol.vector, [bc])\n",
    "    else:\n",
    "        a_sol = problem.solve()\n",
    "\n",
    "    t2 = time.perf_counter()\n",
    "    time_solve += t2-t1\n",
    "    \n",
    "# Corrector step   \n",
    "    v_sol.vector.axpy(dt, a_sol.vector) # what does axpy() do?\n",
    "    u_sol.vector.axpy(dt, v_sol.vector)\n",
    "    \n",
    "    if (n%10 == 0):\n",
    "        with dolfinx.io.XDMFFile(my_domain.comm, \"output_dyn_expl/time_steps_u.xdmf\", \"a\") as file:\n",
    "            file.write_function(u_sol, (n+1)*dt)\n",
    "    \n",
    "    eps_xx.interpolate(eps_xx_expr)\n",
    "    extension_strain[n+1] = extract.solution(my_domain, eps_xx, 0.5*L, 0.25*d)\n",
    "    displ_tip[n+1] = extract.solution(my_domain, u_sol, coords_tip[0], coords_tip[1])[0] #u_x\n",
    "    \n",
    "    if use_linear_model:\n",
    "        E_elas = dolfinx.fem.assemble_scalar(dolfinx.fem.form(0.5*stiffness(u_sol, u_sol)))\n",
    "    else:\n",
    "        E_elas = dolfinx.fem.assemble_scalar(dolfinx.fem.form(energy_nonlinear(u_sol)))\n",
    "    \n",
    "    E_kin = dolfinx.fem.assemble_scalar(dolfinx.fem.form(0.5*mass(v_sol, v_sol)))\n",
    "    E_damp += dt*dolfinx.fem.assemble_scalar(dolfinx.fem.form(damping(v_sol, v_sol)))\n",
    "    E_tot = E_elas+E_kin+E_damp\n",
    "    energies[n+1, :] = np.array([E_elas, E_kin, E_damp, E_tot])\n",
    "    \n",
    "print('Total time for Lin. Alg. solving:',time_solve)"
   ]
  },
  {
   "cell_type": "code",
   "execution_count": null,
   "metadata": {},
   "outputs": [],
   "source": [
    "plt.plot(times, extension_strain, '.-')\n",
    "plt.xlabel(\"Time\")\n",
    "plt.ylabel(\"eps_xx(0.5L ; 0.25 d)\")\n",
    "plt.show()"
   ]
  },
  {
   "cell_type": "code",
   "execution_count": null,
   "metadata": {},
   "outputs": [],
   "source": [
    "plt.figure()\n",
    "plt.plot(times, displ_tip, '.-')\n",
    "plt.plot(times, sigma_max*L/Y*np.ones_like(times), '--g') # what is this limit?\n",
    "plt.plot(times, -sigma_max*L/Y*np.ones_like(times), '--g') # what is this limit?\n",
    "plt.grid()\n",
    "plt.xlabel(\"Time\")\n",
    "plt.ylabel(\"Tip displacement\")\n",
    "#plt.savefig(\"tip_displacement.png\")"
   ]
  },
  {
   "cell_type": "code",
   "execution_count": null,
   "metadata": {
    "tags": []
   },
   "outputs": [],
   "source": [
    "plt.figure()\n",
    "plt.plot(times, energies)\n",
    "plt.legend((\"elastic\", \"kinetic\", \"damping\", \"total\"))\n",
    "plt.xlabel(\"Time\")\n",
    "plt.ylabel(\"Energies\")\n",
    "plt.show()"
   ]
  },
  {
   "cell_type": "code",
   "execution_count": null,
   "metadata": {},
   "outputs": [],
   "source": [
    "rmin = 0.3*h # estimate of the radius of the circle inscribed in the triangles\n",
    "dt_crit = rmin/np.sqrt(Y/rho.value)\n",
    "print(\"Critical time step {:.2e}s\".format(dt_crit))\n",
    "print(\"Used time step {:.2e}s\".format(dt))"
   ]
  },
  {
   "cell_type": "markdown",
   "metadata": {
    "tags": []
   },
   "source": [
    "# Exercise"
   ]
  },
  {
   "cell_type": "markdown",
   "metadata": {
    "tags": []
   },
   "source": [
    "**y)** Why did we choose $L=1$, $Y=1$, $\\rho=1$? Is there a loss of generality?\n",
    "\n",
    "**z)** Does the present system exhibit a periodic behavior? If yes, what is the period? The period for the extension-compression vibration of a 1D beam is $T = k_{ext} L \\sqrt{\\rho/Y}$. Does it correspond to what you find? What is the value of $k$?\n",
    "\n",
    "**a)** Change the values of the damping parameters and describe how this modifies the displacement and energy plots. \n",
    "\n",
    "**b)** Decrease the value of the loading time t_c = t_cutoff, for example t_c=O.5 and t_c=2.0. Observe and interpret how the curves change.\n",
    "\n",
    "**c)** Change the number of time-steps and observe what happends when $dt >dt_{crit}$, explain.\n",
    "\n",
    "**d)** Do you observe a significant difference when you use the lumped mass matrix instead of the usual mass matrix?\n",
    "\n",
    "**e)** How does the difference in computational time between these two approaches (lumped mass or standard mass) vary with the size of the mesh?\n",
    "\n",
    "**f)** Does the material remain in the linear elastic regime at all times?\n",
    "\n",
    "**f.2)** Use $\\sigma_{max}=0.2$ and no dissipation and compare the signal for the tip deflection in the linear and nonlinear setups.\n",
    "\n",
    "**g.1)** Modify the orientation of the applied traction (put it vertical). Compute u_y(L,0) for the static solution for a given $\\sigma_{max}$ applied vertical load.\n",
    "\n",
    "**g.2)** When the applied traction is vertical, is the behavior periodic? The vibration period for the bending of a 1D beam is $T_{bend}= k_{bend} \\, L^2 \\sqrt{\\rho A / (YI)}$. Does it correspond to what you find? What is the value of $k$? (be carefull that much more steps are going to be needed)"
   ]
  },
  {
   "cell_type": "code",
   "execution_count": null,
   "metadata": {},
   "outputs": [],
   "source": []
  }
 ],
 "metadata": {
  "kernelspec": {
   "display_name": "Python 3 (ipykernel)",
   "language": "python",
   "name": "python3"
  },
  "language_info": {
   "codemirror_mode": {
    "name": "ipython",
    "version": 3
   },
   "file_extension": ".py",
   "mimetype": "text/x-python",
   "name": "python",
   "nbconvert_exporter": "python",
   "pygments_lexer": "ipython3",
   "version": "3.10.6"
  }
 },
 "nbformat": 4,
 "nbformat_minor": 4
}
